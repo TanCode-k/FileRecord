{
 "metadata": {
  "language_info": {
   "codemirror_mode": {
    "name": "ipython",
    "version": 3
   },
   "file_extension": ".py",
   "mimetype": "text/x-python",
   "name": "python",
   "nbconvert_exporter": "python",
   "pygments_lexer": "ipython3",
   "version": "3.8.0-final"
  },
  "orig_nbformat": 2,
  "kernelspec": {
   "name": "python_defaultSpec_1599984006089",
   "display_name": "Python 3.8.0 64-bit"
  }
 },
 "nbformat": 4,
 "nbformat_minor": 2,
 "cells": [
  {
   "source": [
    "## 列表\n",
    "### 修改"
   ],
   "cell_type": "markdown",
   "metadata": {}
  },
  {
   "source": [
    "tlist = [1,2,3,4]\n",
    "list[0] = 5\n",
    "print(tlist)"
   ],
   "cell_type": "code",
   "metadata": {
    "tags": []
   },
   "execution_count": 145,
   "outputs": [
    {
     "output_type": "stream",
     "name": "stdout",
     "text": "[1, 2, 3, 4]\n"
    }
   ]
  },
  {
   "source": [
    "### 添加元素\n",
    "#### 在列表末尾添加appand()"
   ],
   "cell_type": "markdown",
   "metadata": {}
  },
  {
   "cell_type": "code",
   "execution_count": 146,
   "metadata": {
    "tags": []
   },
   "outputs": [
    {
     "output_type": "stream",
     "name": "stdout",
     "text": "[1, 2, 3, 4, 'appand1']\n"
    }
   ],
   "source": [
    "tlist.append('appand1')\n",
    "print(tlist)"
   ]
  },
  {
   "source": [
    "### 在列表中插入元素insert(index,value)"
   ],
   "cell_type": "markdown",
   "metadata": {}
  },
  {
   "cell_type": "code",
   "execution_count": 147,
   "metadata": {
    "tags": []
   },
   "outputs": [
    {
     "output_type": "stream",
     "name": "stdout",
     "text": "[1, 'insert1', 2, 3, 4, 'appand1']\n"
    }
   ],
   "source": [
    "tlist.insert(1,\"insert1\")\n",
    "print(tlist)"
   ]
  },
  {
   "source": [
    "### 从列表中删除元素\n",
    "#### 使用del语句删除元素"
   ],
   "cell_type": "markdown",
   "metadata": {}
  },
  {
   "cell_type": "code",
   "execution_count": 148,
   "metadata": {
    "tags": []
   },
   "outputs": [
    {
     "output_type": "stream",
     "name": "stdout",
     "text": "[1, 2, 3, 4, 'appand1']\n"
    }
   ],
   "source": [
    "del tlist[1]\n",
    "print(tlist)"
   ]
  },
  {
   "source": [
    "#### 使用方法pop()删除元素\n",
    "* pop()方法删除列尾的元素，并可以继续使用该元素"
   ],
   "cell_type": "markdown",
   "metadata": {}
  },
  {
   "cell_type": "code",
   "execution_count": 149,
   "metadata": {
    "tags": []
   },
   "outputs": [
    {
     "output_type": "stream",
     "name": "stdout",
     "text": "[1, 2, 3, 4]\nappand1\n"
    }
   ],
   "source": [
    "pv = tlist.pop()\n",
    "print(tlist)\n",
    "print(pv)"
   ]
  },
  {
   "source": [
    "* 弹出列表中任意位置的元素pop(index)"
   ],
   "cell_type": "markdown",
   "metadata": {}
  },
  {
   "cell_type": "code",
   "execution_count": 150,
   "metadata": {
    "tags": []
   },
   "outputs": [
    {
     "output_type": "stream",
     "name": "stdout",
     "text": "2\n"
    }
   ],
   "source": [
    "pv = tlist.pop(1)\n",
    "print(pv)"
   ]
  },
  {
   "source": [
    "#### 根据值删除元素"
   ],
   "cell_type": "markdown",
   "metadata": {}
  },
  {
   "cell_type": "code",
   "execution_count": 151,
   "metadata": {
    "tags": []
   },
   "outputs": [
    {
     "output_type": "stream",
     "name": "stdout",
     "text": "[1, 4]\n"
    }
   ],
   "source": [
    "rbv = tlist.remove(3)\n",
    "print(tlist)"
   ]
  },
  {
   "source": [
    "### 组织列表"
   ],
   "cell_type": "markdown",
   "metadata": {}
  },
  {
   "source": [
    "#### 永久性排序sort()"
   ],
   "cell_type": "markdown",
   "metadata": {}
  },
  {
   "cell_type": "code",
   "execution_count": 152,
   "metadata": {
    "tags": []
   },
   "outputs": [
    {
     "output_type": "stream",
     "name": "stdout",
     "text": "['audi', 'bmw', 'subaru', 'toyota']\n"
    }
   ],
   "source": [
    "cars = ['bmw','audi','toyota','subaru']\n",
    "cars.sort()\n",
    "print(cars)"
   ]
  },
  {
   "source": [
    "* 设置与字母顺序相反的顺序排列\n",
    "    * 设置参数reverse=True"
   ],
   "cell_type": "markdown",
   "metadata": {}
  },
  {
   "cell_type": "code",
   "execution_count": 153,
   "metadata": {
    "tags": []
   },
   "outputs": [
    {
     "output_type": "stream",
     "name": "stdout",
     "text": "['toyota', 'subaru', 'bmw', 'audi']\n"
    }
   ],
   "source": [
    "cars.sort(reverse=True)\n",
    "print(cars)"
   ]
  },
  {
   "source": [
    "#### 列表临时排序sorted()\n",
    "* 保留列表元素原来的排列顺序，同时以特定的顺序呈现他们"
   ],
   "cell_type": "markdown",
   "metadata": {}
  },
  {
   "cell_type": "code",
   "execution_count": 154,
   "metadata": {
    "tags": []
   },
   "outputs": [
    {
     "output_type": "stream",
     "name": "stdout",
     "text": "['audi', 'bmw', 'subaru', 'toyota']\n['toyota', 'subaru', 'bmw', 'audi']\n"
    }
   ],
   "source": [
    "print(sorted(cars))\n",
    "print(sorted(cars,reverse=True))"
   ]
  },
  {
   "source": [
    "#### 倒着打印列表reverse()\n",
    "* reverse()反转的是列表元素的排列顺序吗，而不是字母顺序相反的顺序列表排列"
   ],
   "cell_type": "markdown",
   "metadata": {}
  },
  {
   "cell_type": "code",
   "execution_count": 155,
   "metadata": {
    "tags": []
   },
   "outputs": [
    {
     "output_type": "stream",
     "name": "stdout",
     "text": "['subaru', 'toyota', 'audi', 'bmw']\n"
    }
   ],
   "source": [
    "cars = ['bmw','audi','toyota','subaru']\n",
    "cars.reverse()\n",
    "print(cars)"
   ]
  },
  {
   "source": [
    "#### 确定列表长度len(List)"
   ],
   "cell_type": "markdown",
   "metadata": {}
  },
  {
   "cell_type": "code",
   "execution_count": 156,
   "metadata": {
    "tags": []
   },
   "outputs": [
    {
     "output_type": "stream",
     "name": "stdout",
     "text": "4\n"
    }
   ],
   "source": [
    "print(len(cars))"
   ]
  },
  {
   "source": [
    "* 使用列表时避免索引错误\n",
    "* 获取最后一位，可用索引-1\n",
    "* 仅当列表为空时，该方式才会报错"
   ],
   "cell_type": "markdown",
   "metadata": {}
  },
  {
   "cell_type": "code",
   "execution_count": 157,
   "metadata": {
    "tags": []
   },
   "outputs": [
    {
     "output_type": "stream",
     "name": "stdout",
     "text": "bmw\n"
    }
   ],
   "source": [
    "print(cars[-1])"
   ]
  },
  {
   "source": [
    "## 4.操作列表"
   ],
   "cell_type": "markdown",
   "metadata": {}
  },
  {
   "source": [
    "### 遍历整个列表"
   ],
   "cell_type": "markdown",
   "metadata": {}
  },
  {
   "cell_type": "code",
   "execution_count": 158,
   "metadata": {
    "tags": []
   },
   "outputs": [
    {
     "output_type": "stream",
     "name": "stdout",
     "text": "1\n3\n2\n6\n7\n"
    }
   ],
   "source": [
    "tlist = [1,3,2,6,7]\n",
    "for i in tlist:\n",
    "    print(i)"
   ]
  },
  {
   "source": [
    "### 创建数值列表"
   ],
   "cell_type": "markdown",
   "metadata": {}
  },
  {
   "source": [
    "#### 使用函数range()"
   ],
   "cell_type": "markdown",
   "metadata": {}
  },
  {
   "cell_type": "code",
   "execution_count": 159,
   "metadata": {
    "tags": []
   },
   "outputs": [
    {
     "output_type": "stream",
     "name": "stdout",
     "text": "1\n2\n3\n4\n"
    }
   ],
   "source": [
    "for value in range(1,5):\n",
    "    print(value)"
   ]
  },
  {
   "source": [
    "#### 使用range()创建数字列表\n",
    "* 可使用list()将range()的结果直接转换为列表"
   ],
   "cell_type": "markdown",
   "metadata": {}
  },
  {
   "cell_type": "code",
   "execution_count": 160,
   "metadata": {},
   "outputs": [
    {
     "output_type": "error",
     "ename": "TypeError",
     "evalue": "'list' object is not callable",
     "traceback": [
      "\u001b[1;31m---------------------------------------------------------------------------\u001b[0m",
      "\u001b[1;31mTypeError\u001b[0m                                 Traceback (most recent call last)",
      "\u001b[1;32m<ipython-input-160-fe827678d9e8>\u001b[0m in \u001b[0;36m<module>\u001b[1;34m\u001b[0m\n\u001b[1;32m----> 1\u001b[1;33m \u001b[0mlist\u001b[0m\u001b[1;33m(\u001b[0m\u001b[0mrange\u001b[0m\u001b[1;33m(\u001b[0m\u001b[1;36m1\u001b[0m\u001b[1;33m,\u001b[0m\u001b[1;36m6\u001b[0m\u001b[1;33m)\u001b[0m\u001b[1;33m)\u001b[0m\u001b[1;33m\u001b[0m\u001b[1;33m\u001b[0m\u001b[0m\n\u001b[0m",
      "\u001b[1;31mTypeError\u001b[0m: 'list' object is not callable"
     ]
    }
   ],
   "source": [
    "list(range(1,6))"
   ]
  },
  {
   "source": [
    "#### 对数组列表进行简单的统计计算\n",
    "* min(digits)\n",
    "* max(digits)\n",
    "* sum(digits)"
   ],
   "cell_type": "markdown",
   "metadata": {}
  },
  {
   "source": [
    "#### 列表解析\n",
    "* 列表生成式"
   ],
   "cell_type": "markdown",
   "metadata": {}
  },
  {
   "cell_type": "code",
   "execution_count": 161,
   "metadata": {
    "tags": []
   },
   "outputs": [
    {
     "output_type": "stream",
     "name": "stdout",
     "text": "[1, 9, 25, 49, 81]\n"
    }
   ],
   "source": [
    "squares = [value ** 2 for value in range(1,10,2)]\n",
    "print(squares)"
   ]
  },
  {
   "source": [
    "### 使用列表的一部分\n",
    "* 处理列表的部分元素--切片\n",
    "* 创建切片，可指定使用的第一个元素和最后一个元素的索引"
   ],
   "cell_type": "markdown",
   "metadata": {}
  },
  {
   "cell_type": "code",
   "execution_count": 162,
   "metadata": {
    "tags": []
   },
   "outputs": [
    {
     "output_type": "stream",
     "name": "stdout",
     "text": "['p2', 'p3', 'p4']\n['p1', 'p2', 'p3', 'p4']\n['p4', 'p5', 'p6']\np4\np5\np6\n"
    }
   ],
   "source": [
    "players = ['p1','p2','p3','p4','p5','p6']\n",
    "print(players[1:4])\n",
    "print(players[:4])\n",
    "print(players[-3:])\n",
    "\n",
    "# 遍历切片\n",
    "for p in players[3:]:\n",
    "    print(p)"
   ]
  },
  {
   "source": [
    "#### 复制列表\n",
    "* 复制列表需要用切片，若使用‘=’赋值，两者操作的是统一列表\n"
   ],
   "cell_type": "markdown",
   "metadata": {}
  },
  {
   "cell_type": "code",
   "execution_count": 163,
   "metadata": {
    "tags": []
   },
   "outputs": [
    {
     "output_type": "stream",
     "name": "stdout",
     "text": "[1, 2, 3, 4, 5]\n[1, 2, 3, 4]\n[1, 2, 3, 4, 5]\n"
    }
   ],
   "source": [
    "test1 = [1,2,3,4]\n",
    "test2 = test1[:]\n",
    "test3 = test1\n",
    "test1.append(5)\n",
    "print(test1,test2,test3,sep=\"\\n\")"
   ]
  },
  {
   "source": [
    "* 列表适合存储在程序运行期间可能变化的数据集，列表是可修改的\n",
    "\n",
    "### 元组\n",
    "* 元组是不可变的。元组元素不可变，但元组变量可变\n",
    "* 元组使用圆括号()\n",
    "* 元组可以使用索引来访问其元素"
   ],
   "cell_type": "markdown",
   "metadata": {}
  },
  {
   "cell_type": "code",
   "execution_count": 164,
   "metadata": {},
   "outputs": [],
   "source": [
    "dimensions = (200,50)"
   ]
  },
  {
   "source": [
    "#### 遍历元组中的所有值"
   ],
   "cell_type": "markdown",
   "metadata": {}
  },
  {
   "cell_type": "code",
   "execution_count": 165,
   "metadata": {
    "tags": []
   },
   "outputs": [
    {
     "output_type": "stream",
     "name": "stdout",
     "text": "200\n50\n"
    }
   ],
   "source": [
    "for value in dimensions:\n",
    "    print(value)"
   ]
  },
  {
   "source": [
    "### if语句\n",
    "* 检查多个条件 and,or\n",
    "* 检查特定值是否包含在列表中：in;不在列表中：not in\n",
    "* 语句结构：\n",
    "    * if-else\n",
    "    * if-elif-else,elif可为多个，else可省略\n"
   ],
   "cell_type": "markdown",
   "metadata": {}
  },
  {
   "source": [
    "## 6.字典\n",
    "* 字典是一系列键-值对\n",
    "* 每个键都与一个值相关联，可以使用键来访问与之相关联的值，与键相关联的值可以是数字、字符串、列表乃至字典"
   ],
   "cell_type": "markdown",
   "metadata": {}
  },
  {
   "cell_type": "code",
   "execution_count": 166,
   "metadata": {},
   "outputs": [],
   "source": [
    "mdict = {1:\"2\"}"
   ]
  },
  {
   "cell_type": "code",
   "execution_count": 167,
   "metadata": {},
   "outputs": [
    {
     "output_type": "execute_result",
     "data": {
      "text/plain": "'2'"
     },
     "metadata": {},
     "execution_count": 167
    }
   ],
   "source": [
    "mdict.get(1)"
   ]
  },
  {
   "source": [
    "### 添加键值对\n",
    "* 字典是一种动态结构，可随时在其中添加键-值对\n",
    "### 修改字典的值\n",
    "* 指定字典的键值修改\n",
    "### 删除键-值对\n",
    "* del"
   ],
   "cell_type": "markdown",
   "metadata": {}
  },
  {
   "cell_type": "code",
   "execution_count": 168,
   "metadata": {
    "tags": []
   },
   "outputs": [
    {
     "output_type": "stream",
     "name": "stdout",
     "text": "{1: '2', 'px': 1, 'py': 2}\n{1: '2', 'px': 1, 'py': 2, '1': 'tneame'}\n{'px': 1, 'py': 2, '1': 'tneame'}\n"
    }
   ],
   "source": [
    "mdict['px'] = 1\n",
    "mdict['py'] = 2\n",
    "print(mdict)\n",
    "\n",
    "mdict['1'] = \"tneame\"\n",
    "print(mdict)\n",
    "\n",
    "del mdict[1]\n",
    "print(mdict)"
   ]
  },
  {
   "source": [
    "### 遍历字典\n",
    "#### 遍历所有的键-值对\n",
    "* items()：返回键值对列表\n",
    "* keys():提取字典中的所有键\n",
    "#### 按顺序遍历字典中的所有键\n",
    "* 使用函数sorted()\n",
    "#### 遍历字典中的所有值\n",
    "* values():提取字典中的每个值\n",
    "* 获取的值可能存在重复项，可使用set()，剔除重复项\n"
   ],
   "cell_type": "markdown",
   "metadata": {}
  },
  {
   "cell_type": "code",
   "execution_count": 175,
   "metadata": {
    "tags": []
   },
   "outputs": [
    {
     "output_type": "stream",
     "name": "stdout",
     "text": "px=1\npy=2\n1=tneame\npx = 1\npy = 2\n1 = tneame\n1 = tneame\npx = 1\npy = 2\n1\n2\ntneame\n"
    }
   ],
   "source": [
    "for key,value in mdict.items():\n",
    "    print(key,value,sep='=')\n",
    "\n",
    "for key in mdict.keys():\n",
    "    print(key,mdict[key],sep=' = ')\n",
    "\n",
    "for key in sorted(mdict.keys()):\n",
    "    print(key,mdict[key],sep=' = ')\n",
    "\n",
    "for value in set(mdict.values()):\n",
    "    print(value)"
   ]
  },
  {
   "source": [
    "### 嵌套\n",
    "* 列表存储字典\n",
    "* 字典存储列表\n",
    "* 字典存储字典\n"
   ],
   "cell_type": "markdown",
   "metadata": {}
  }
 ]
}